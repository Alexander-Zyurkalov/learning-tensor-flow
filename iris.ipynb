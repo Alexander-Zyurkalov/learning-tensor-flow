{
 "cells": [
  {
   "cell_type": "markdown",
   "source": [
    "# Loading data"
   ],
   "metadata": {
    "collapsed": false
   },
   "id": "ce9ccba834f05c22"
  },
  {
   "cell_type": "code",
   "execution_count": 1,
   "outputs": [],
   "source": [
    "import pandas as pd\n",
    "import tensorflow as tf\n",
    "\n",
    "\n",
    "iris_df = pd.read_csv('iris.data', header=None)\n",
    "iris_df.columns = ['sepal_length', 'sepal_width', 'petal_width', 'petal_length', 'label']"
   ],
   "metadata": {
    "collapsed": false,
    "ExecuteTime": {
     "start_time": "2023-08-16T15:34:17.275552Z"
    }
   },
   "id": "initial_id"
  },
  {
   "cell_type": "markdown",
   "source": [
    "# Converting text labels to digits "
   ],
   "metadata": {
    "collapsed": false
   },
   "id": "6c7833733183323"
  },
  {
   "cell_type": "code",
   "execution_count": 3,
   "outputs": [],
   "source": [
    "iris_df[\"label\"] = iris_df[\"label\"].map({'Iris-setosa':0, 'Iris-versicolor':1, 'Iris-virginica':2})"
   ],
   "metadata": {
    "collapsed": false,
    "ExecuteTime": {
     "end_time": "2023-08-16T15:35:26.623475Z",
     "start_time": "2023-08-16T15:35:26.601056Z"
    }
   },
   "id": "b2fc798cd9558b"
  },
  {
   "cell_type": "markdown",
   "source": [
    "# Randomise the data"
   ],
   "metadata": {
    "collapsed": false
   },
   "id": "6885db39d37745a2"
  },
  {
   "cell_type": "code",
   "execution_count": 7,
   "outputs": [],
   "source": [
    "iris_df = iris_df.sample(frac=1.0, random_state=4321)"
   ],
   "metadata": {
    "collapsed": false,
    "ExecuteTime": {
     "end_time": "2023-08-16T15:50:30.659077Z",
     "start_time": "2023-08-16T15:50:30.651679Z"
    }
   },
   "id": "20bab3bcb43bfeb3"
  },
  {
   "cell_type": "markdown",
   "source": [
    "Remove `label` from iris_df"
   ],
   "metadata": {
    "collapsed": false
   },
   "id": "42f9af896c0a0d0"
  },
  {
   "cell_type": "code",
   "execution_count": 28,
   "outputs": [],
   "source": [
    "x = iris_df[[\"sepal_length\", \"sepal_width\", \"petal_width\", \"petal_length\"]]"
   ],
   "metadata": {
    "collapsed": false,
    "ExecuteTime": {
     "end_time": "2023-08-16T17:28:01.385427Z",
     "start_time": "2023-08-16T17:28:01.381940Z"
    }
   },
   "id": "8da05ec2be7730b6"
  },
  {
   "cell_type": "markdown",
   "source": [
    "# Let's do mean-normalisation:"
   ],
   "metadata": {
    "collapsed": false
   },
   "id": "1c95e004dde6c085"
  },
  {
   "cell_type": "code",
   "execution_count": 29,
   "outputs": [],
   "source": [
    "x = x - x.mean(axis=0)"
   ],
   "metadata": {
    "collapsed": false,
    "ExecuteTime": {
     "end_time": "2023-08-16T17:28:02.373777Z",
     "start_time": "2023-08-16T17:28:02.371121Z"
    }
   },
   "id": "8ded83c95b3b1aa6"
  },
  {
   "cell_type": "markdown",
   "source": [
    "We leave the labels in a separate varuable"
   ],
   "metadata": {
    "collapsed": false
   },
   "id": "ec6bd0b27826bbc9"
  },
  {
   "cell_type": "code",
   "execution_count": 35,
   "outputs": [],
   "source": [
    "y = tf.one_hot(iris_df[\"label\"], depth=3)"
   ],
   "metadata": {
    "collapsed": false,
    "ExecuteTime": {
     "end_time": "2023-08-16T18:12:57.723614Z",
     "start_time": "2023-08-16T18:12:57.718850Z"
    }
   },
   "id": "1a4db05856ae25e4"
  },
  {
   "cell_type": "markdown",
   "source": [
    "#Loading modules to create a mode"
   ],
   "metadata": {
    "collapsed": false
   },
   "id": "a07c7cdd73bae617"
  },
  {
   "cell_type": "code",
   "execution_count": 30,
   "outputs": [],
   "source": [
    "from tensorflow.keras.layers import Dense\n",
    "from tensorflow.keras.models import Sequential\n",
    "import tensorflow.keras.backend as K"
   ],
   "metadata": {
    "collapsed": false,
    "ExecuteTime": {
     "end_time": "2023-08-16T17:53:22.559522Z",
     "start_time": "2023-08-16T17:53:22.444495Z"
    }
   },
   "id": "b30e429c60525b2"
  },
  {
   "cell_type": "markdown",
   "source": [
    "# Clearing sessions"
   ],
   "metadata": {
    "collapsed": false
   },
   "id": "6ca161a5af4d5013"
  },
  {
   "cell_type": "code",
   "execution_count": 31,
   "outputs": [],
   "source": [
    "K.clear_session()"
   ],
   "metadata": {
    "collapsed": false,
    "ExecuteTime": {
     "end_time": "2023-08-16T17:53:44.900953Z",
     "start_time": "2023-08-16T17:53:44.895166Z"
    }
   },
   "id": "9383cbd82f54a3cb"
  },
  {
   "cell_type": "markdown",
   "source": [
    "# creating our model"
   ],
   "metadata": {
    "collapsed": false
   },
   "id": "5d8a8a6a9fa2c0fb"
  },
  {
   "cell_type": "code",
   "execution_count": 33,
   "outputs": [],
   "source": [
    "model = Sequential([\n",
    "    Dense(32, activation='relu', input_shape=(4,)),\n",
    "    Dense(16, activation='relu'),\n",
    "    Dense(3, activation='softmax')\n",
    "])"
   ],
   "metadata": {
    "collapsed": false,
    "ExecuteTime": {
     "end_time": "2023-08-16T17:54:22.505558Z",
     "start_time": "2023-08-16T17:54:22.487550Z"
    }
   },
   "id": "6d32a01f7390874a"
  },
  {
   "cell_type": "code",
   "execution_count": 34,
   "outputs": [
    {
     "name": "stdout",
     "output_type": "stream",
     "text": [
      "Model: \"sequential_1\"\n",
      "_________________________________________________________________\n",
      " Layer (type)                Output Shape              Param #   \n",
      "=================================================================\n",
      " dense_3 (Dense)             (None, 32)                160       \n",
      "                                                                 \n",
      " dense_4 (Dense)             (None, 16)                528       \n",
      "                                                                 \n",
      " dense_5 (Dense)             (None, 3)                 51        \n",
      "                                                                 \n",
      "=================================================================\n",
      "Total params: 739 (2.89 KB)\n",
      "Trainable params: 739 (2.89 KB)\n",
      "Non-trainable params: 0 (0.00 Byte)\n",
      "_________________________________________________________________\n"
     ]
    }
   ],
   "source": [
    "model.compile(loss='categorical_crossentropy', optimizer='adam', metrics=['acc'])\n",
    "model.summary()"
   ],
   "metadata": {
    "collapsed": false,
    "ExecuteTime": {
     "end_time": "2023-08-16T17:54:40.251691Z",
     "start_time": "2023-08-16T17:54:40.237542Z"
    }
   },
   "id": "41a90dd8ed9313e2"
  }
 ],
 "metadata": {
  "kernelspec": {
   "display_name": "Python 3",
   "language": "python",
   "name": "python3"
  },
  "language_info": {
   "codemirror_mode": {
    "name": "ipython",
    "version": 2
   },
   "file_extension": ".py",
   "mimetype": "text/x-python",
   "name": "python",
   "nbconvert_exporter": "python",
   "pygments_lexer": "ipython2",
   "version": "2.7.6"
  }
 },
 "nbformat": 4,
 "nbformat_minor": 5
}
